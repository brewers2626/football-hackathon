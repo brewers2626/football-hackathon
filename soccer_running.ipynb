{
 "cells": [
  {
   "cell_type": "code",
   "execution_count": 1,
   "id": "a6a337fb-48f3-4268-9d76-a32356e8323b",
   "metadata": {},
   "outputs": [],
   "source": [
    "import pandas as pd\n",
    "import numpy as np\n",
    "import os\n",
    "import matplotlib.pyplot as plt\n",
    "\n",
    "from google.cloud.storage.blob import Blob\n",
    "from google.cloud import storage\n",
    "\n",
    "from sklearn.preprocessing import MinMaxScaler\n",
    "from sklearn.decomposition import PCA\n",
    "from sklearn.model_selection import train_test_split\n",
    "from sklearn.linear_model import LinearRegression\n",
    "from sklearn.metrics import mean_squared_error, r2_score"
   ]
  },
  {
   "cell_type": "code",
   "execution_count": 2,
   "id": "255165c8-b942-4370-8ecd-e09eece57c53",
   "metadata": {},
   "outputs": [
    {
     "data": {
      "text/plain": [
       "\"\\nos.environ['GOOGLE_APPLICATION_CREDENTIALS'] = 'mlb-mvp-predictions-571fb58bbad3.json'\\n\\nclient = storage.Client()\\nbucket = client.get_bucket('football-hackathan')\\nbucket.blob('corr_matrix.csv').upload_from_string(corr_matrix.to_csv(), 'text/csv')\\n\""
      ]
     },
     "execution_count": 2,
     "metadata": {},
     "output_type": "execute_result"
    }
   ],
   "source": [
    "# Method to write dataframe to the GCP bucket\n",
    "'''\n",
    "os.environ['GOOGLE_APPLICATION_CREDENTIALS'] = 'mlb-mvp-predictions-571fb58bbad3.json'\n",
    "\n",
    "client = storage.Client()\n",
    "bucket = client.get_bucket('football-hackathan')\n",
    "bucket.blob('corr_matrix.csv').upload_from_string(corr_matrix.to_csv(), 'text/csv')\n",
    "'''"
   ]
  },
  {
   "cell_type": "code",
   "execution_count": 3,
   "id": "418aedf0-b201-48c4-8038-f4b09e7fa071",
   "metadata": {},
   "outputs": [],
   "source": [
    "soccer_file = pd.read_csv('gs://football-hackathan/train.csv')\n",
    "soccer_test = pd.read_csv('gs://football-hackathan/test.csv')"
   ]
  },
  {
   "cell_type": "code",
   "execution_count": null,
   "id": "089bcd38-e849-45f5-ac06-f96ec57591d2",
   "metadata": {},
   "outputs": [],
   "source": []
  },
  {
   "cell_type": "markdown",
   "id": "7f469fb1-5899-42c2-a5c3-4f260fcec9f3",
   "metadata": {},
   "source": [
    "# Data Processing"
   ]
  },
  {
   "cell_type": "markdown",
   "id": "d183fa5b-f369-4c54-9a0d-db650660daa3",
   "metadata": {},
   "source": [
    "### Handling the missing data"
   ]
  },
  {
   "cell_type": "code",
   "execution_count": 9,
   "id": "831eb407-7337-4592-a0a6-0b120abc330a",
   "metadata": {},
   "outputs": [
    {
     "data": {
      "text/plain": [
       "19566"
      ]
     },
     "execution_count": 9,
     "metadata": {},
     "output_type": "execute_result"
    }
   ],
   "source": [
    "# number of rows with missing entries\n",
    "soccer_file.isnull().any(axis = 1).sum()"
   ]
  },
  {
   "cell_type": "code",
   "execution_count": 10,
   "id": "03a959d5-f122-4f34-b1c5-a3cfc5b8608f",
   "metadata": {},
   "outputs": [],
   "source": [
    "# number of null values by column\n",
    "missing_list = list(soccer_file.isnull().sum())\n",
    "col_list = list(soccer_file.columns)\n",
    "missing_percent = []\n",
    "for val in missing_list:\n",
    "    percentage = val/len(soccer_file)\n",
    "    missing_percent.append(percentage)\n",
    "\n",
    "\n",
    "missing_dict = tuple(zip(col_list, missing_list, missing_percent))\n",
    "missing_df = pd.DataFrame(missing_dict, columns = ['column_title', 'abs_missing', 'pct_missing'])\n",
    "    \n"
   ]
  },
  {
   "cell_type": "code",
   "execution_count": 11,
   "id": "28965b34-e9d9-4833-9417-99df2a1dafe1",
   "metadata": {},
   "outputs": [
    {
     "data": {
      "text/html": [
       "<div>\n",
       "<style scoped>\n",
       "    .dataframe tbody tr th:only-of-type {\n",
       "        vertical-align: middle;\n",
       "    }\n",
       "\n",
       "    .dataframe tbody tr th {\n",
       "        vertical-align: top;\n",
       "    }\n",
       "\n",
       "    .dataframe thead th {\n",
       "        text-align: right;\n",
       "    }\n",
       "</style>\n",
       "<table border=\"1\" class=\"dataframe\">\n",
       "  <thead>\n",
       "    <tr style=\"text-align: right;\">\n",
       "      <th></th>\n",
       "      <th>column_title</th>\n",
       "      <th>abs_missing</th>\n",
       "      <th>pct_missing</th>\n",
       "    </tr>\n",
       "  </thead>\n",
       "  <tbody>\n",
       "    <tr>\n",
       "      <th>392</th>\n",
       "      <td>player_physical_derived_var_131</td>\n",
       "      <td>7409</td>\n",
       "      <td>0.362245</td>\n",
       "    </tr>\n",
       "    <tr>\n",
       "      <th>418</th>\n",
       "      <td>player_other_derived_var_157</td>\n",
       "      <td>7409</td>\n",
       "      <td>0.362245</td>\n",
       "    </tr>\n",
       "    <tr>\n",
       "      <th>355</th>\n",
       "      <td>player_physical_derived_var_94</td>\n",
       "      <td>7409</td>\n",
       "      <td>0.362245</td>\n",
       "    </tr>\n",
       "    <tr>\n",
       "      <th>289</th>\n",
       "      <td>player_physical_derived_var_28</td>\n",
       "      <td>7409</td>\n",
       "      <td>0.362245</td>\n",
       "    </tr>\n",
       "    <tr>\n",
       "      <th>320</th>\n",
       "      <td>player_physical_derived_var_59</td>\n",
       "      <td>7409</td>\n",
       "      <td>0.362245</td>\n",
       "    </tr>\n",
       "    <tr>\n",
       "      <th>...</th>\n",
       "      <td>...</td>\n",
       "      <td>...</td>\n",
       "      <td>...</td>\n",
       "    </tr>\n",
       "    <tr>\n",
       "      <th>12</th>\n",
       "      <td>player_general_var_2</td>\n",
       "      <td>0</td>\n",
       "      <td>0.000000</td>\n",
       "    </tr>\n",
       "    <tr>\n",
       "      <th>13</th>\n",
       "      <td>player_general_var_3</td>\n",
       "      <td>0</td>\n",
       "      <td>0.000000</td>\n",
       "    </tr>\n",
       "    <tr>\n",
       "      <th>15</th>\n",
       "      <td>player_general_var_5</td>\n",
       "      <td>0</td>\n",
       "      <td>0.000000</td>\n",
       "    </tr>\n",
       "    <tr>\n",
       "      <th>1</th>\n",
       "      <td>scout_id</td>\n",
       "      <td>0</td>\n",
       "      <td>0.000000</td>\n",
       "    </tr>\n",
       "    <tr>\n",
       "      <th>0</th>\n",
       "      <td>row_id</td>\n",
       "      <td>0</td>\n",
       "      <td>0.000000</td>\n",
       "    </tr>\n",
       "  </tbody>\n",
       "</table>\n",
       "<p>731 rows × 3 columns</p>\n",
       "</div>"
      ],
      "text/plain": [
       "                        column_title  abs_missing  pct_missing\n",
       "392  player_physical_derived_var_131         7409     0.362245\n",
       "418     player_other_derived_var_157         7409     0.362245\n",
       "355   player_physical_derived_var_94         7409     0.362245\n",
       "289   player_physical_derived_var_28         7409     0.362245\n",
       "320   player_physical_derived_var_59         7409     0.362245\n",
       "..                               ...          ...          ...\n",
       "12              player_general_var_2            0     0.000000\n",
       "13              player_general_var_3            0     0.000000\n",
       "15              player_general_var_5            0     0.000000\n",
       "1                           scout_id            0     0.000000\n",
       "0                             row_id            0     0.000000\n",
       "\n",
       "[731 rows x 3 columns]"
      ]
     },
     "execution_count": 11,
     "metadata": {},
     "output_type": "execute_result"
    }
   ],
   "source": [
    "large_missing = missing_df.sort_values(by = ['abs_missing'], ascending = False)\n",
    "large_missing"
   ]
  },
  {
   "cell_type": "code",
   "execution_count": 12,
   "id": "03a0ea9c-b955-4155-9cd5-e7ac1f62e544",
   "metadata": {},
   "outputs": [],
   "source": [
    "# columns with more than 40% missing values\n",
    "df_missing = missing_df[missing_df['pct_missing'] >= 0.4]\n",
    "missing_cols = list(df_missing['column_title'])"
   ]
  },
  {
   "cell_type": "code",
   "execution_count": 13,
   "id": "c868c029-cca1-4d5a-a072-e8439040a642",
   "metadata": {},
   "outputs": [],
   "source": [
    "soccer_file = soccer_file.drop(columns = missing_cols)\n",
    "soccer_test = soccer_test.drop(columns = missing_cols)"
   ]
  },
  {
   "cell_type": "code",
   "execution_count": 14,
   "id": "a0eb6e62-2a4c-4665-b910-83e49c34ce15",
   "metadata": {},
   "outputs": [],
   "source": [
    "# One-hot encode the categorical variables in the dataset\n",
    "soccer_file = pd.get_dummies(soccer_file, columns = ['winner', 'team', 'player_position_1', 'player_position_2'])\n",
    "soccer_test = pd.get_dummies(soccer_test, columns = ['winner', 'team', 'player_position_1', 'player_position_2'])"
   ]
  },
  {
   "cell_type": "code",
   "execution_count": 15,
   "id": "fc665f0d-140b-4447-91f7-3575b8d2d25f",
   "metadata": {},
   "outputs": [],
   "source": [
    "# fill the missing values of the dataframe with the mean values\n",
    "soccer_file = soccer_file.apply(lambda x: x.fillna(x.mean()), axis = 0)"
   ]
  },
  {
   "cell_type": "code",
   "execution_count": 16,
   "id": "17b45959-369d-4373-a386-cca6227867f2",
   "metadata": {},
   "outputs": [],
   "source": [
    "soccer_test = soccer_test.apply(lambda x: x.fillna(x.mean()), axis = 0)\n",
    "soccer_test = soccer_test.drop(columns = 'row_id')"
   ]
  },
  {
   "cell_type": "code",
   "execution_count": 17,
   "id": "c7d070ad-9447-4a9c-83c5-938c66a6235b",
   "metadata": {},
   "outputs": [
    {
     "data": {
      "text/plain": [
       "0"
      ]
     },
     "execution_count": 17,
     "metadata": {},
     "output_type": "execute_result"
    }
   ],
   "source": [
    "# number of rows with missing entries\n",
    "soccer_test.isnull().any(axis = 1).sum()"
   ]
  },
  {
   "cell_type": "code",
   "execution_count": 18,
   "id": "75c9145e-63f1-4a65-9cde-4cac9c88d125",
   "metadata": {},
   "outputs": [],
   "source": [
    "# Isolate the rating_num dependent variable from the rest of the features\n",
    "rating_dep = soccer_file['rating_num']\n",
    "ind_vars = soccer_file.drop(columns = ['rating_num', 'row_id'])"
   ]
  },
  {
   "cell_type": "code",
   "execution_count": 19,
   "id": "2d656950-62b1-4d20-91d9-988d3c3ec4de",
   "metadata": {},
   "outputs": [
    {
     "data": {
      "text/plain": [
       "(20453, 774)"
      ]
     },
     "execution_count": 19,
     "metadata": {},
     "output_type": "execute_result"
    }
   ],
   "source": [
    "ind_vars.shape"
   ]
  },
  {
   "cell_type": "code",
   "execution_count": 20,
   "id": "41ec00c1-b416-40d8-b8e4-ec0670a0a7ec",
   "metadata": {},
   "outputs": [
    {
     "name": "stderr",
     "output_type": "stream",
     "text": [
      "/opt/conda/lib/python3.7/site-packages/sklearn/base.py:493: FutureWarning: The feature names should match those that were passed during fit. Starting version 1.2, an error will be raised.\n",
      "Feature names unseen at fit time:\n",
      "- player_position_1_21.0\n",
      "- player_position_2_21.0\n",
      "Feature names seen at fit time, yet now missing:\n",
      "- player_position_1_22.0\n",
      "- player_position_2_22.0\n",
      "\n",
      "  warnings.warn(message, FutureWarning)\n"
     ]
    }
   ],
   "source": [
    "# Normalize the independent variables on a scale of 0 to 1\n",
    "scaler = MinMaxScaler()\n",
    "\n",
    "scale = MinMaxScaler().fit(ind_vars)\n",
    "soccer_train = scale.transform(ind_vars)\n",
    "\n",
    "# apply the same normalization to the testing dataset\n",
    "soccer_test_norm = scale.transform(soccer_test)"
   ]
  },
  {
   "cell_type": "code",
   "execution_count": 21,
   "id": "c29f612e-f492-4946-83c1-777ffd121177",
   "metadata": {},
   "outputs": [],
   "source": [
    "soccer_train = pd.DataFrame(soccer_train, columns = ind_vars.columns)\n",
    "# soccer_train['rating_num'] = rating_dep\n",
    "\n",
    "soccer_test_norm = pd.DataFrame(soccer_test_norm, columns = soccer_test.columns)"
   ]
  },
  {
   "cell_type": "code",
   "execution_count": null,
   "id": "294fa35f-4f49-4ed3-8562-f0cbde4a2a22",
   "metadata": {},
   "outputs": [],
   "source": []
  },
  {
   "cell_type": "markdown",
   "id": "34891ba6-e6c2-4429-add6-53d75229ccae",
   "metadata": {},
   "source": [
    "# Random Forest feature selection"
   ]
  },
  {
   "cell_type": "code",
   "execution_count": 22,
   "id": "22eb8d8a-9fbf-4f30-81ca-53a682ae740f",
   "metadata": {},
   "outputs": [],
   "source": [
    "from sklearn.ensemble import RandomForestRegressor\n",
    "from sklearn.inspection import permutation_importance\n",
    "from sklearn.feature_selection import SelectFromModel"
   ]
  },
  {
   "cell_type": "code",
   "execution_count": 23,
   "id": "919ca906-edcd-4c42-85c0-203b8ec1b558",
   "metadata": {},
   "outputs": [],
   "source": [
    "x = soccer_train\n",
    "y = rating_dep"
   ]
  },
  {
   "cell_type": "code",
   "execution_count": 24,
   "id": "35fdd2c6-28a1-462a-b7e7-99ccf9eb9b3f",
   "metadata": {},
   "outputs": [],
   "source": [
    "# split the training dataset into a further training/testing split\n",
    "# allows for evaluation of the model performance\n",
    "# x_train, x_test, y_train, y_test = train_test_split(x,y, test_size = 0.25, shuffle = True, random_state = 1337)"
   ]
  },
  {
   "cell_type": "code",
   "execution_count": 28,
   "id": "789392d3-e01d-47db-8151-9d4728ced51d",
   "metadata": {},
   "outputs": [
    {
     "data": {
      "text/plain": [
       "RandomForestRegressor(n_estimators=150)"
      ]
     },
     "execution_count": 28,
     "metadata": {},
     "output_type": "execute_result"
    }
   ],
   "source": [
    "random_forest = RandomForestRegressor(n_estimators = 150)\n",
    "random_forest.fit(x, y)"
   ]
  },
  {
   "cell_type": "code",
   "execution_count": null,
   "id": "f21beaa9-67ad-404d-9c0e-1350b1b3738c",
   "metadata": {},
   "outputs": [],
   "source": []
  },
  {
   "cell_type": "code",
   "execution_count": 29,
   "id": "30c11aec-f7a6-47ce-af8e-15ba5c58efdf",
   "metadata": {},
   "outputs": [],
   "source": [
    "# create a feature importance plot\n",
    "importance = random_forest.feature_importances_.argsort()"
   ]
  },
  {
   "cell_type": "code",
   "execution_count": 30,
   "id": "cea471a8-d642-4eb9-87d8-79fa561195d8",
   "metadata": {},
   "outputs": [],
   "source": [
    "# plt.barh(soccer_train.columns[importance], random_forest.feature_importances_[importance])\n",
    "# plt.xlabel('feature importance')"
   ]
  },
  {
   "cell_type": "code",
   "execution_count": 31,
   "id": "1803ff6b-3f36-451c-9209-c7c15989241b",
   "metadata": {},
   "outputs": [],
   "source": [
    "cols = soccer_train.columns[importance]\n",
    "importances = random_forest.feature_importances_[importance]"
   ]
  },
  {
   "cell_type": "code",
   "execution_count": 32,
   "id": "efebe44d-b7c1-4a9f-8bda-606c3b4cf6d4",
   "metadata": {},
   "outputs": [],
   "source": [
    "importance_df = pd.DataFrame(list(zip(cols, importances)), columns = ['feature', 'importance'])"
   ]
  },
  {
   "cell_type": "code",
   "execution_count": 33,
   "id": "0e2c35e3-f382-4ed8-963a-3a18d2f4c20c",
   "metadata": {},
   "outputs": [
    {
     "data": {
      "text/html": [
       "<div>\n",
       "<style scoped>\n",
       "    .dataframe tbody tr th:only-of-type {\n",
       "        vertical-align: middle;\n",
       "    }\n",
       "\n",
       "    .dataframe tbody tr th {\n",
       "        vertical-align: top;\n",
       "    }\n",
       "\n",
       "    .dataframe thead th {\n",
       "        text-align: right;\n",
       "    }\n",
       "</style>\n",
       "<table border=\"1\" class=\"dataframe\">\n",
       "  <thead>\n",
       "    <tr style=\"text-align: right;\">\n",
       "      <th></th>\n",
       "      <th>feature</th>\n",
       "      <th>importance</th>\n",
       "    </tr>\n",
       "  </thead>\n",
       "  <tbody>\n",
       "    <tr>\n",
       "      <th>773</th>\n",
       "      <td>player_positional_raw_var_185</td>\n",
       "      <td>0.035981</td>\n",
       "    </tr>\n",
       "    <tr>\n",
       "      <th>772</th>\n",
       "      <td>winner_loser</td>\n",
       "      <td>0.021939</td>\n",
       "    </tr>\n",
       "    <tr>\n",
       "      <th>771</th>\n",
       "      <td>scout_id</td>\n",
       "      <td>0.015484</td>\n",
       "    </tr>\n",
       "    <tr>\n",
       "      <th>770</th>\n",
       "      <td>competitionId</td>\n",
       "      <td>0.012584</td>\n",
       "    </tr>\n",
       "    <tr>\n",
       "      <th>769</th>\n",
       "      <td>player_offensive_derived_var_55</td>\n",
       "      <td>0.009505</td>\n",
       "    </tr>\n",
       "    <tr>\n",
       "      <th>...</th>\n",
       "      <td>...</td>\n",
       "      <td>...</td>\n",
       "    </tr>\n",
       "    <tr>\n",
       "      <th>2</th>\n",
       "      <td>player_position_2_22.0</td>\n",
       "      <td>0.000000</td>\n",
       "    </tr>\n",
       "    <tr>\n",
       "      <th>1</th>\n",
       "      <td>player_offensive_raw_var_156</td>\n",
       "      <td>0.000000</td>\n",
       "    </tr>\n",
       "    <tr>\n",
       "      <th>4</th>\n",
       "      <td>player_position_1_22.0</td>\n",
       "      <td>0.000000</td>\n",
       "    </tr>\n",
       "    <tr>\n",
       "      <th>5</th>\n",
       "      <td>player_position_1_20.0</td>\n",
       "      <td>0.000000</td>\n",
       "    </tr>\n",
       "    <tr>\n",
       "      <th>0</th>\n",
       "      <td>player_position_2_23.0</td>\n",
       "      <td>0.000000</td>\n",
       "    </tr>\n",
       "  </tbody>\n",
       "</table>\n",
       "<p>774 rows × 2 columns</p>\n",
       "</div>"
      ],
      "text/plain": [
       "                             feature  importance\n",
       "773    player_positional_raw_var_185    0.035981\n",
       "772                     winner_loser    0.021939\n",
       "771                         scout_id    0.015484\n",
       "770                    competitionId    0.012584\n",
       "769  player_offensive_derived_var_55    0.009505\n",
       "..                               ...         ...\n",
       "2             player_position_2_22.0    0.000000\n",
       "1       player_offensive_raw_var_156    0.000000\n",
       "4             player_position_1_22.0    0.000000\n",
       "5             player_position_1_20.0    0.000000\n",
       "0             player_position_2_23.0    0.000000\n",
       "\n",
       "[774 rows x 2 columns]"
      ]
     },
     "execution_count": 33,
     "metadata": {},
     "output_type": "execute_result"
    }
   ],
   "source": [
    "order_importance = importance_df.sort_values(by = ['importance'], ascending = False)\n",
    "order_importance"
   ]
  },
  {
   "cell_type": "code",
   "execution_count": null,
   "id": "bfe4f014-bcce-4a4c-8a27-25dc6861a13d",
   "metadata": {},
   "outputs": [],
   "source": []
  },
  {
   "cell_type": "markdown",
   "id": "0bb4e636-d96b-4846-8265-2a94ba714f05",
   "metadata": {},
   "source": [
    "# Linear Regression - Random Forest selected variables"
   ]
  },
  {
   "cell_type": "code",
   "execution_count": 128,
   "id": "23e8116f-b2c9-4b93-8577-8869a9d5dff3",
   "metadata": {},
   "outputs": [],
   "source": [
    "# select the variables with the x highest rated importance\n",
    "# order_importance = pd.read_csv('program_output/random_forest_importance.csv')\n",
    "# order_importance = order_importance.drop(columns = ['Unnamed: 0'])"
   ]
  },
  {
   "cell_type": "code",
   "execution_count": 41,
   "id": "082fbc1b-8256-487e-b6c3-1f397ad85ae7",
   "metadata": {},
   "outputs": [
    {
     "data": {
      "text/html": [
       "<div>\n",
       "<style scoped>\n",
       "    .dataframe tbody tr th:only-of-type {\n",
       "        vertical-align: middle;\n",
       "    }\n",
       "\n",
       "    .dataframe tbody tr th {\n",
       "        vertical-align: top;\n",
       "    }\n",
       "\n",
       "    .dataframe thead th {\n",
       "        text-align: right;\n",
       "    }\n",
       "</style>\n",
       "<table border=\"1\" class=\"dataframe\">\n",
       "  <thead>\n",
       "    <tr style=\"text-align: right;\">\n",
       "      <th></th>\n",
       "      <th>feature</th>\n",
       "      <th>importance</th>\n",
       "    </tr>\n",
       "  </thead>\n",
       "  <tbody>\n",
       "    <tr>\n",
       "      <th>773</th>\n",
       "      <td>player_positional_raw_var_185</td>\n",
       "      <td>0.035981</td>\n",
       "    </tr>\n",
       "    <tr>\n",
       "      <th>772</th>\n",
       "      <td>winner_loser</td>\n",
       "      <td>0.021939</td>\n",
       "    </tr>\n",
       "    <tr>\n",
       "      <th>771</th>\n",
       "      <td>scout_id</td>\n",
       "      <td>0.015484</td>\n",
       "    </tr>\n",
       "    <tr>\n",
       "      <th>770</th>\n",
       "      <td>competitionId</td>\n",
       "      <td>0.012584</td>\n",
       "    </tr>\n",
       "    <tr>\n",
       "      <th>769</th>\n",
       "      <td>player_offensive_derived_var_55</td>\n",
       "      <td>0.009505</td>\n",
       "    </tr>\n",
       "    <tr>\n",
       "      <th>...</th>\n",
       "      <td>...</td>\n",
       "      <td>...</td>\n",
       "    </tr>\n",
       "    <tr>\n",
       "      <th>2</th>\n",
       "      <td>player_position_2_22.0</td>\n",
       "      <td>0.000000</td>\n",
       "    </tr>\n",
       "    <tr>\n",
       "      <th>1</th>\n",
       "      <td>player_offensive_raw_var_156</td>\n",
       "      <td>0.000000</td>\n",
       "    </tr>\n",
       "    <tr>\n",
       "      <th>4</th>\n",
       "      <td>player_position_1_22.0</td>\n",
       "      <td>0.000000</td>\n",
       "    </tr>\n",
       "    <tr>\n",
       "      <th>5</th>\n",
       "      <td>player_position_1_20.0</td>\n",
       "      <td>0.000000</td>\n",
       "    </tr>\n",
       "    <tr>\n",
       "      <th>0</th>\n",
       "      <td>player_position_2_23.0</td>\n",
       "      <td>0.000000</td>\n",
       "    </tr>\n",
       "  </tbody>\n",
       "</table>\n",
       "<p>774 rows × 2 columns</p>\n",
       "</div>"
      ],
      "text/plain": [
       "                             feature  importance\n",
       "773    player_positional_raw_var_185    0.035981\n",
       "772                     winner_loser    0.021939\n",
       "771                         scout_id    0.015484\n",
       "770                    competitionId    0.012584\n",
       "769  player_offensive_derived_var_55    0.009505\n",
       "..                               ...         ...\n",
       "2             player_position_2_22.0    0.000000\n",
       "1       player_offensive_raw_var_156    0.000000\n",
       "4             player_position_1_22.0    0.000000\n",
       "5             player_position_1_20.0    0.000000\n",
       "0             player_position_2_23.0    0.000000\n",
       "\n",
       "[774 rows x 2 columns]"
      ]
     },
     "execution_count": 41,
     "metadata": {},
     "output_type": "execute_result"
    }
   ],
   "source": [
    "order_importance"
   ]
  },
  {
   "cell_type": "code",
   "execution_count": 42,
   "id": "4d858d99-2602-440f-8c81-38abe496931e",
   "metadata": {},
   "outputs": [],
   "source": [
    "features = list(order_importance['feature'])[0:50]"
   ]
  },
  {
   "cell_type": "code",
   "execution_count": 43,
   "id": "95baeb9f-e7ae-4647-ab56-86328cac27ef",
   "metadata": {},
   "outputs": [
    {
     "data": {
      "text/plain": [
       "['player_positional_raw_var_185',\n",
       " 'winner_loser',\n",
       " 'scout_id',\n",
       " 'competitionId',\n",
       " 'player_offensive_derived_var_55',\n",
       " 'player_other_raw_var_38',\n",
       " 'player_offensive_derived_var_89',\n",
       " 'player_offensive_derived_var_127',\n",
       " 'player_weight',\n",
       " 'player_height',\n",
       " 'player_other_raw_var_197',\n",
       " 'player_other_derived_var_42',\n",
       " 'player_general_var_4',\n",
       " 'player_positional_derived_var_85',\n",
       " 'player_positional_ratio_var_46',\n",
       " 'team2_other_ratio_var_15',\n",
       " 'player_other_derived_var_76',\n",
       " 'player_other_raw_var_109',\n",
       " 'player_other_ratio_var_11',\n",
       " 'team2_other_raw_var_36',\n",
       " 'player_other_ratio_var_61',\n",
       " 'team2_other_raw_var_49',\n",
       " 'player_offensive_ratio_var_45',\n",
       " 'player_general_derived_var_146',\n",
       " 'player_offensive_derived_var_24',\n",
       " 'player_offensive_derived_var_90',\n",
       " 'player_positional_derived_var_92',\n",
       " 'team2_offensive_derived_var_19',\n",
       " 'player_offensive_derived_var_154',\n",
       " 'team1_other_raw_var_36',\n",
       " 'player_other_derived_var_145',\n",
       " 'team1_other_raw_var_49',\n",
       " 'team1_other_ratio_var_15',\n",
       " 'player_defensive_derived_var_72',\n",
       " 'player_offensive_derived_var_17',\n",
       " 'player_other_ratio_var_63',\n",
       " 'player_other_raw_var_6',\n",
       " 'team1_other_ratio_var_18',\n",
       " 'team1_defensive_derived_var_17',\n",
       " 'team2_other_ratio_var_18',\n",
       " 'player_other_ratio_var_43',\n",
       " 'player_physical_raw_var_196',\n",
       " 'player_offensive_derived_var_151',\n",
       " 'team1_other_ratio_var_22',\n",
       " 'player_other_ratio_var_9',\n",
       " 'player_positional_derived_var_130',\n",
       " 'player_other_ratio_var_41',\n",
       " 'team1_other_ratio_var_16',\n",
       " 'team2_defensive_derived_var_10',\n",
       " 'team1_other_ratio_var_35']"
      ]
     },
     "execution_count": 43,
     "metadata": {},
     "output_type": "execute_result"
    }
   ],
   "source": [
    "features"
   ]
  },
  {
   "cell_type": "code",
   "execution_count": 44,
   "id": "b7ceafc5-a15c-4877-b03d-4e0ce5b0aaee",
   "metadata": {},
   "outputs": [
    {
     "name": "stderr",
     "output_type": "stream",
     "text": [
      "/opt/conda/lib/python3.7/site-packages/ipykernel_launcher.py:2: SettingWithCopyWarning: \n",
      "A value is trying to be set on a copy of a slice from a DataFrame.\n",
      "Try using .loc[row_indexer,col_indexer] = value instead\n",
      "\n",
      "See the caveats in the documentation: https://pandas.pydata.org/pandas-docs/stable/user_guide/indexing.html#returning-a-view-versus-a-copy\n",
      "  \n"
     ]
    }
   ],
   "source": [
    "forest_frame = soccer_train[features]\n",
    "forest_frame['rating_num'] = rating_dep\n",
    "forest_frame_test = soccer_test_norm[features]"
   ]
  },
  {
   "cell_type": "code",
   "execution_count": 45,
   "id": "fe15be7e-3cac-4d2b-bb1c-d55727c60e89",
   "metadata": {},
   "outputs": [],
   "source": [
    "forest_frame = forest_frame.drop(columns = ['scout_id'])\n",
    "forest_frame_test = forest_frame_test.drop(columns = ['scout_id'])"
   ]
  },
  {
   "cell_type": "code",
   "execution_count": 48,
   "id": "e4bce538-35f2-4749-8f26-2fc79c6e97d4",
   "metadata": {},
   "outputs": [
    {
     "data": {
      "text/html": [
       "<div>\n",
       "<style scoped>\n",
       "    .dataframe tbody tr th:only-of-type {\n",
       "        vertical-align: middle;\n",
       "    }\n",
       "\n",
       "    .dataframe tbody tr th {\n",
       "        vertical-align: top;\n",
       "    }\n",
       "\n",
       "    .dataframe thead th {\n",
       "        text-align: right;\n",
       "    }\n",
       "</style>\n",
       "<table border=\"1\" class=\"dataframe\">\n",
       "  <thead>\n",
       "    <tr style=\"text-align: right;\">\n",
       "      <th></th>\n",
       "      <th>player_positional_raw_var_185</th>\n",
       "      <th>winner_loser</th>\n",
       "      <th>competitionId</th>\n",
       "      <th>player_offensive_derived_var_55</th>\n",
       "      <th>player_other_raw_var_38</th>\n",
       "      <th>player_offensive_derived_var_89</th>\n",
       "      <th>player_offensive_derived_var_127</th>\n",
       "      <th>player_weight</th>\n",
       "      <th>player_height</th>\n",
       "      <th>player_other_raw_var_197</th>\n",
       "      <th>...</th>\n",
       "      <th>player_other_ratio_var_43</th>\n",
       "      <th>player_physical_raw_var_196</th>\n",
       "      <th>player_offensive_derived_var_151</th>\n",
       "      <th>team1_other_ratio_var_22</th>\n",
       "      <th>player_other_ratio_var_9</th>\n",
       "      <th>player_positional_derived_var_130</th>\n",
       "      <th>player_other_ratio_var_41</th>\n",
       "      <th>team1_other_ratio_var_16</th>\n",
       "      <th>team2_defensive_derived_var_10</th>\n",
       "      <th>team1_other_ratio_var_35</th>\n",
       "    </tr>\n",
       "  </thead>\n",
       "  <tbody>\n",
       "    <tr>\n",
       "      <th>0</th>\n",
       "      <td>0.309368</td>\n",
       "      <td>0.0</td>\n",
       "      <td>0.272727</td>\n",
       "      <td>0.220294</td>\n",
       "      <td>0.000000</td>\n",
       "      <td>0.316975</td>\n",
       "      <td>0.308869</td>\n",
       "      <td>0.416667</td>\n",
       "      <td>0.307692</td>\n",
       "      <td>0.539088</td>\n",
       "      <td>...</td>\n",
       "      <td>0.373</td>\n",
       "      <td>0.248373</td>\n",
       "      <td>0.501639</td>\n",
       "      <td>0.421687</td>\n",
       "      <td>0.429</td>\n",
       "      <td>0.079032</td>\n",
       "      <td>0.627</td>\n",
       "      <td>0.336538</td>\n",
       "      <td>0.279219</td>\n",
       "      <td>0.388800</td>\n",
       "    </tr>\n",
       "    <tr>\n",
       "      <th>1</th>\n",
       "      <td>0.067538</td>\n",
       "      <td>0.0</td>\n",
       "      <td>0.454545</td>\n",
       "      <td>0.145358</td>\n",
       "      <td>0.000000</td>\n",
       "      <td>0.164734</td>\n",
       "      <td>0.181439</td>\n",
       "      <td>0.583333</td>\n",
       "      <td>0.564103</td>\n",
       "      <td>0.539088</td>\n",
       "      <td>...</td>\n",
       "      <td>0.250</td>\n",
       "      <td>0.248373</td>\n",
       "      <td>0.420397</td>\n",
       "      <td>0.353414</td>\n",
       "      <td>0.154</td>\n",
       "      <td>0.039640</td>\n",
       "      <td>0.750</td>\n",
       "      <td>0.371795</td>\n",
       "      <td>0.360020</td>\n",
       "      <td>0.449600</td>\n",
       "    </tr>\n",
       "    <tr>\n",
       "      <th>2</th>\n",
       "      <td>0.254902</td>\n",
       "      <td>1.0</td>\n",
       "      <td>0.545455</td>\n",
       "      <td>0.102518</td>\n",
       "      <td>0.000000</td>\n",
       "      <td>0.236755</td>\n",
       "      <td>0.241741</td>\n",
       "      <td>0.270833</td>\n",
       "      <td>0.179487</td>\n",
       "      <td>0.539088</td>\n",
       "      <td>...</td>\n",
       "      <td>0.447</td>\n",
       "      <td>0.248373</td>\n",
       "      <td>0.431282</td>\n",
       "      <td>0.445783</td>\n",
       "      <td>0.400</td>\n",
       "      <td>0.091178</td>\n",
       "      <td>0.553</td>\n",
       "      <td>0.461538</td>\n",
       "      <td>0.364730</td>\n",
       "      <td>0.572800</td>\n",
       "    </tr>\n",
       "    <tr>\n",
       "      <th>3</th>\n",
       "      <td>0.163399</td>\n",
       "      <td>1.0</td>\n",
       "      <td>0.636364</td>\n",
       "      <td>0.171319</td>\n",
       "      <td>0.066667</td>\n",
       "      <td>0.235680</td>\n",
       "      <td>0.265362</td>\n",
       "      <td>0.270833</td>\n",
       "      <td>0.333333</td>\n",
       "      <td>0.492188</td>\n",
       "      <td>...</td>\n",
       "      <td>0.333</td>\n",
       "      <td>0.167539</td>\n",
       "      <td>0.306720</td>\n",
       "      <td>0.510040</td>\n",
       "      <td>0.375</td>\n",
       "      <td>0.078778</td>\n",
       "      <td>0.667</td>\n",
       "      <td>0.387821</td>\n",
       "      <td>0.515167</td>\n",
       "      <td>0.364800</td>\n",
       "    </tr>\n",
       "    <tr>\n",
       "      <th>4</th>\n",
       "      <td>0.100218</td>\n",
       "      <td>0.0</td>\n",
       "      <td>0.090909</td>\n",
       "      <td>0.284642</td>\n",
       "      <td>0.000000</td>\n",
       "      <td>0.400990</td>\n",
       "      <td>0.398251</td>\n",
       "      <td>0.687500</td>\n",
       "      <td>0.589744</td>\n",
       "      <td>0.625000</td>\n",
       "      <td>...</td>\n",
       "      <td>0.583</td>\n",
       "      <td>0.183246</td>\n",
       "      <td>0.247264</td>\n",
       "      <td>0.405622</td>\n",
       "      <td>0.571</td>\n",
       "      <td>0.037099</td>\n",
       "      <td>0.417</td>\n",
       "      <td>0.352564</td>\n",
       "      <td>0.411699</td>\n",
       "      <td>0.571200</td>\n",
       "    </tr>\n",
       "    <tr>\n",
       "      <th>...</th>\n",
       "      <td>...</td>\n",
       "      <td>...</td>\n",
       "      <td>...</td>\n",
       "      <td>...</td>\n",
       "      <td>...</td>\n",
       "      <td>...</td>\n",
       "      <td>...</td>\n",
       "      <td>...</td>\n",
       "      <td>...</td>\n",
       "      <td>...</td>\n",
       "      <td>...</td>\n",
       "      <td>...</td>\n",
       "      <td>...</td>\n",
       "      <td>...</td>\n",
       "      <td>...</td>\n",
       "      <td>...</td>\n",
       "      <td>...</td>\n",
       "      <td>...</td>\n",
       "      <td>...</td>\n",
       "      <td>...</td>\n",
       "      <td>...</td>\n",
       "    </tr>\n",
       "    <tr>\n",
       "      <th>8769</th>\n",
       "      <td>0.095861</td>\n",
       "      <td>1.0</td>\n",
       "      <td>0.272727</td>\n",
       "      <td>0.120829</td>\n",
       "      <td>0.133333</td>\n",
       "      <td>0.107128</td>\n",
       "      <td>0.114332</td>\n",
       "      <td>0.583333</td>\n",
       "      <td>0.461538</td>\n",
       "      <td>0.742188</td>\n",
       "      <td>...</td>\n",
       "      <td>0.333</td>\n",
       "      <td>0.146597</td>\n",
       "      <td>0.348271</td>\n",
       "      <td>0.329317</td>\n",
       "      <td>0.250</td>\n",
       "      <td>0.046275</td>\n",
       "      <td>0.667</td>\n",
       "      <td>0.471154</td>\n",
       "      <td>0.386332</td>\n",
       "      <td>0.342400</td>\n",
       "    </tr>\n",
       "    <tr>\n",
       "      <th>8770</th>\n",
       "      <td>0.296296</td>\n",
       "      <td>0.0</td>\n",
       "      <td>0.000000</td>\n",
       "      <td>0.334367</td>\n",
       "      <td>0.200000</td>\n",
       "      <td>0.376092</td>\n",
       "      <td>0.385732</td>\n",
       "      <td>0.375000</td>\n",
       "      <td>0.333333</td>\n",
       "      <td>0.539088</td>\n",
       "      <td>...</td>\n",
       "      <td>0.317</td>\n",
       "      <td>0.248373</td>\n",
       "      <td>0.475270</td>\n",
       "      <td>0.273092</td>\n",
       "      <td>0.692</td>\n",
       "      <td>0.096745</td>\n",
       "      <td>0.683</td>\n",
       "      <td>0.346154</td>\n",
       "      <td>0.395247</td>\n",
       "      <td>0.649600</td>\n",
       "    </tr>\n",
       "    <tr>\n",
       "      <th>8771</th>\n",
       "      <td>0.063181</td>\n",
       "      <td>1.0</td>\n",
       "      <td>0.000000</td>\n",
       "      <td>0.265464</td>\n",
       "      <td>0.000000</td>\n",
       "      <td>0.217921</td>\n",
       "      <td>0.235031</td>\n",
       "      <td>0.333333</td>\n",
       "      <td>0.435897</td>\n",
       "      <td>0.820313</td>\n",
       "      <td>...</td>\n",
       "      <td>0.526</td>\n",
       "      <td>0.364747</td>\n",
       "      <td>0.342295</td>\n",
       "      <td>0.244980</td>\n",
       "      <td>0.500</td>\n",
       "      <td>0.041401</td>\n",
       "      <td>0.474</td>\n",
       "      <td>0.391026</td>\n",
       "      <td>0.153401</td>\n",
       "      <td>0.548800</td>\n",
       "    </tr>\n",
       "    <tr>\n",
       "      <th>8772</th>\n",
       "      <td>0.259259</td>\n",
       "      <td>0.0</td>\n",
       "      <td>0.545455</td>\n",
       "      <td>0.319748</td>\n",
       "      <td>0.000000</td>\n",
       "      <td>0.408740</td>\n",
       "      <td>0.421627</td>\n",
       "      <td>0.520833</td>\n",
       "      <td>0.461538</td>\n",
       "      <td>0.562500</td>\n",
       "      <td>...</td>\n",
       "      <td>0.478</td>\n",
       "      <td>0.254799</td>\n",
       "      <td>0.608588</td>\n",
       "      <td>0.415942</td>\n",
       "      <td>0.600</td>\n",
       "      <td>0.115741</td>\n",
       "      <td>0.522</td>\n",
       "      <td>0.383853</td>\n",
       "      <td>0.252675</td>\n",
       "      <td>0.558341</td>\n",
       "    </tr>\n",
       "    <tr>\n",
       "      <th>8773</th>\n",
       "      <td>0.233115</td>\n",
       "      <td>0.0</td>\n",
       "      <td>0.000000</td>\n",
       "      <td>0.278796</td>\n",
       "      <td>0.066667</td>\n",
       "      <td>0.311915</td>\n",
       "      <td>0.333669</td>\n",
       "      <td>0.458333</td>\n",
       "      <td>0.564103</td>\n",
       "      <td>0.539088</td>\n",
       "      <td>...</td>\n",
       "      <td>0.581</td>\n",
       "      <td>0.248373</td>\n",
       "      <td>0.438527</td>\n",
       "      <td>0.526104</td>\n",
       "      <td>0.529</td>\n",
       "      <td>0.056249</td>\n",
       "      <td>0.419</td>\n",
       "      <td>0.394231</td>\n",
       "      <td>0.271864</td>\n",
       "      <td>0.662400</td>\n",
       "    </tr>\n",
       "  </tbody>\n",
       "</table>\n",
       "<p>8774 rows × 49 columns</p>\n",
       "</div>"
      ],
      "text/plain": [
       "      player_positional_raw_var_185  winner_loser  competitionId  \\\n",
       "0                          0.309368           0.0       0.272727   \n",
       "1                          0.067538           0.0       0.454545   \n",
       "2                          0.254902           1.0       0.545455   \n",
       "3                          0.163399           1.0       0.636364   \n",
       "4                          0.100218           0.0       0.090909   \n",
       "...                             ...           ...            ...   \n",
       "8769                       0.095861           1.0       0.272727   \n",
       "8770                       0.296296           0.0       0.000000   \n",
       "8771                       0.063181           1.0       0.000000   \n",
       "8772                       0.259259           0.0       0.545455   \n",
       "8773                       0.233115           0.0       0.000000   \n",
       "\n",
       "      player_offensive_derived_var_55  player_other_raw_var_38  \\\n",
       "0                            0.220294                 0.000000   \n",
       "1                            0.145358                 0.000000   \n",
       "2                            0.102518                 0.000000   \n",
       "3                            0.171319                 0.066667   \n",
       "4                            0.284642                 0.000000   \n",
       "...                               ...                      ...   \n",
       "8769                         0.120829                 0.133333   \n",
       "8770                         0.334367                 0.200000   \n",
       "8771                         0.265464                 0.000000   \n",
       "8772                         0.319748                 0.000000   \n",
       "8773                         0.278796                 0.066667   \n",
       "\n",
       "      player_offensive_derived_var_89  player_offensive_derived_var_127  \\\n",
       "0                            0.316975                          0.308869   \n",
       "1                            0.164734                          0.181439   \n",
       "2                            0.236755                          0.241741   \n",
       "3                            0.235680                          0.265362   \n",
       "4                            0.400990                          0.398251   \n",
       "...                               ...                               ...   \n",
       "8769                         0.107128                          0.114332   \n",
       "8770                         0.376092                          0.385732   \n",
       "8771                         0.217921                          0.235031   \n",
       "8772                         0.408740                          0.421627   \n",
       "8773                         0.311915                          0.333669   \n",
       "\n",
       "      player_weight  player_height  player_other_raw_var_197  ...  \\\n",
       "0          0.416667       0.307692                  0.539088  ...   \n",
       "1          0.583333       0.564103                  0.539088  ...   \n",
       "2          0.270833       0.179487                  0.539088  ...   \n",
       "3          0.270833       0.333333                  0.492188  ...   \n",
       "4          0.687500       0.589744                  0.625000  ...   \n",
       "...             ...            ...                       ...  ...   \n",
       "8769       0.583333       0.461538                  0.742188  ...   \n",
       "8770       0.375000       0.333333                  0.539088  ...   \n",
       "8771       0.333333       0.435897                  0.820313  ...   \n",
       "8772       0.520833       0.461538                  0.562500  ...   \n",
       "8773       0.458333       0.564103                  0.539088  ...   \n",
       "\n",
       "      player_other_ratio_var_43  player_physical_raw_var_196  \\\n",
       "0                         0.373                     0.248373   \n",
       "1                         0.250                     0.248373   \n",
       "2                         0.447                     0.248373   \n",
       "3                         0.333                     0.167539   \n",
       "4                         0.583                     0.183246   \n",
       "...                         ...                          ...   \n",
       "8769                      0.333                     0.146597   \n",
       "8770                      0.317                     0.248373   \n",
       "8771                      0.526                     0.364747   \n",
       "8772                      0.478                     0.254799   \n",
       "8773                      0.581                     0.248373   \n",
       "\n",
       "      player_offensive_derived_var_151  team1_other_ratio_var_22  \\\n",
       "0                             0.501639                  0.421687   \n",
       "1                             0.420397                  0.353414   \n",
       "2                             0.431282                  0.445783   \n",
       "3                             0.306720                  0.510040   \n",
       "4                             0.247264                  0.405622   \n",
       "...                                ...                       ...   \n",
       "8769                          0.348271                  0.329317   \n",
       "8770                          0.475270                  0.273092   \n",
       "8771                          0.342295                  0.244980   \n",
       "8772                          0.608588                  0.415942   \n",
       "8773                          0.438527                  0.526104   \n",
       "\n",
       "      player_other_ratio_var_9  player_positional_derived_var_130  \\\n",
       "0                        0.429                           0.079032   \n",
       "1                        0.154                           0.039640   \n",
       "2                        0.400                           0.091178   \n",
       "3                        0.375                           0.078778   \n",
       "4                        0.571                           0.037099   \n",
       "...                        ...                                ...   \n",
       "8769                     0.250                           0.046275   \n",
       "8770                     0.692                           0.096745   \n",
       "8771                     0.500                           0.041401   \n",
       "8772                     0.600                           0.115741   \n",
       "8773                     0.529                           0.056249   \n",
       "\n",
       "      player_other_ratio_var_41  team1_other_ratio_var_16  \\\n",
       "0                         0.627                  0.336538   \n",
       "1                         0.750                  0.371795   \n",
       "2                         0.553                  0.461538   \n",
       "3                         0.667                  0.387821   \n",
       "4                         0.417                  0.352564   \n",
       "...                         ...                       ...   \n",
       "8769                      0.667                  0.471154   \n",
       "8770                      0.683                  0.346154   \n",
       "8771                      0.474                  0.391026   \n",
       "8772                      0.522                  0.383853   \n",
       "8773                      0.419                  0.394231   \n",
       "\n",
       "      team2_defensive_derived_var_10  team1_other_ratio_var_35  \n",
       "0                           0.279219                  0.388800  \n",
       "1                           0.360020                  0.449600  \n",
       "2                           0.364730                  0.572800  \n",
       "3                           0.515167                  0.364800  \n",
       "4                           0.411699                  0.571200  \n",
       "...                              ...                       ...  \n",
       "8769                        0.386332                  0.342400  \n",
       "8770                        0.395247                  0.649600  \n",
       "8771                        0.153401                  0.548800  \n",
       "8772                        0.252675                  0.558341  \n",
       "8773                        0.271864                  0.662400  \n",
       "\n",
       "[8774 rows x 49 columns]"
      ]
     },
     "execution_count": 48,
     "metadata": {},
     "output_type": "execute_result"
    }
   ],
   "source": [
    "forest_frame_test"
   ]
  },
  {
   "cell_type": "code",
   "execution_count": 49,
   "id": "4f649418-f755-44c7-8059-ee934b7f698d",
   "metadata": {},
   "outputs": [],
   "source": [
    "x_train = forest_frame.iloc[:,:-1]\n",
    "y_train = forest_frame.iloc[:, -1]"
   ]
  },
  {
   "cell_type": "code",
   "execution_count": 150,
   "id": "0bbab94c-7237-4ab3-9048-936037ba190c",
   "metadata": {},
   "outputs": [],
   "source": [
    "# split the training dataset into a further training/testing split\n",
    "# allows for evaluation of the model performance\n",
    "# x_train, x_test, y_train, y_test = train_test_split(x,y, test_size = 0.25, shuffle = True, random_state = 1337)"
   ]
  },
  {
   "cell_type": "code",
   "execution_count": 51,
   "id": "2fdff53a-cb2e-43e2-a3a9-cf266e72dc8b",
   "metadata": {},
   "outputs": [],
   "source": [
    "linear_regression = LinearRegression()"
   ]
  },
  {
   "cell_type": "code",
   "execution_count": 53,
   "id": "cf97a558-42c2-442f-a6df-e082fb676927",
   "metadata": {},
   "outputs": [
    {
     "data": {
      "text/plain": [
       "LinearRegression()"
      ]
     },
     "execution_count": 53,
     "metadata": {},
     "output_type": "execute_result"
    }
   ],
   "source": [
    "# train the linear regression model\n",
    "linear_regression.fit(x_train, y_train)"
   ]
  },
  {
   "cell_type": "code",
   "execution_count": 55,
   "id": "32fe54f2-d9b3-43e5-b6f7-83911ae24583",
   "metadata": {},
   "outputs": [
    {
     "data": {
      "text/plain": [
       "array([7.24811896, 6.45209816, 6.04505874, ..., 6.75279723, 6.79668627,\n",
       "       7.47903805])"
      ]
     },
     "execution_count": 55,
     "metadata": {},
     "output_type": "execute_result"
    }
   ],
   "source": [
    "rating_pred"
   ]
  },
  {
   "cell_type": "code",
   "execution_count": 54,
   "id": "96d3a272-e293-4560-82f4-a86d43a7259f",
   "metadata": {},
   "outputs": [],
   "source": [
    "rating_pred = linear_regression.predict(forest_frame_test)"
   ]
  },
  {
   "cell_type": "code",
   "execution_count": 154,
   "id": "3770f1db-eb8e-4f08-b6c6-63a5e076f985",
   "metadata": {},
   "outputs": [
    {
     "name": "stdout",
     "output_type": "stream",
     "text": [
      "mean squared error: 2.91\n",
      "r2 of the linear regression: 0.14\n"
     ]
    }
   ],
   "source": [
    "# mean squared error\n",
    "# print('mean squared error: %.2f' % mean_squared_error(y_test, rating_pred))\n",
    "# r2 value\n",
    "# print('r2 of the linear regression: %.2f' % r2_score(y_test, rating_pred))"
   ]
  },
  {
   "cell_type": "code",
   "execution_count": null,
   "id": "a71e34b1-9d1d-4a08-858a-b3f99ca7b8e9",
   "metadata": {},
   "outputs": [],
   "source": []
  },
  {
   "cell_type": "markdown",
   "id": "42498a95-bdc2-4175-9f4b-9986d5a0088f",
   "metadata": {},
   "source": [
    "# CSV file for submission"
   ]
  },
  {
   "cell_type": "code",
   "execution_count": 58,
   "id": "f89bfa80-fe3e-42e6-922f-23c87d719938",
   "metadata": {},
   "outputs": [],
   "source": [
    "soccer_test = pd.read_csv('gs://football-hackathan/test.csv')"
   ]
  },
  {
   "cell_type": "code",
   "execution_count": 59,
   "id": "cdad16c7-dbc7-4450-9190-0bafa7c4e667",
   "metadata": {},
   "outputs": [],
   "source": [
    "row_id = list(soccer_test['row_id'])\n",
    "rating_num = list(rating_pred)"
   ]
  },
  {
   "cell_type": "code",
   "execution_count": 61,
   "id": "63db0ecc-4342-41e7-bfdc-972d0bce2d70",
   "metadata": {},
   "outputs": [],
   "source": [
    "submission_df = pd.DataFrame(list(zip(row_id, rating_num)), columns = ['row_id','rating_num'])"
   ]
  },
  {
   "cell_type": "code",
   "execution_count": 64,
   "id": "c071fb5f-995d-4a44-924b-a89ac15b1505",
   "metadata": {},
   "outputs": [],
   "source": [
    "submission_df.to_csv('program_output/lin_regression_submission.csv', index = False)"
   ]
  },
  {
   "cell_type": "code",
   "execution_count": null,
   "id": "e82860ac-06b6-46f0-a6b5-8b5e905b954e",
   "metadata": {},
   "outputs": [],
   "source": []
  }
 ],
 "metadata": {
  "environment": {
   "kernel": "python3",
   "name": "common-cpu.m93",
   "type": "gcloud",
   "uri": "gcr.io/deeplearning-platform-release/base-cpu:m93"
  },
  "kernelspec": {
   "display_name": "Python 3",
   "language": "python",
   "name": "python3"
  },
  "language_info": {
   "codemirror_mode": {
    "name": "ipython",
    "version": 3
   },
   "file_extension": ".py",
   "mimetype": "text/x-python",
   "name": "python",
   "nbconvert_exporter": "python",
   "pygments_lexer": "ipython3",
   "version": "3.7.12"
  }
 },
 "nbformat": 4,
 "nbformat_minor": 5
}
