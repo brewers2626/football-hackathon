{
 "cells": [
  {
   "cell_type": "code",
   "execution_count": 1,
   "id": "bceac056-b8e5-416d-9bf6-77bb3f2d631b",
   "metadata": {},
   "outputs": [],
   "source": [
    "import pandas as pd\n",
    "import numpy as np\n",
    "import os\n",
    "import matplotlib.pyplot as plt\n",
    "\n",
    "from google.cloud.storage.blob import Blob\n",
    "from google.cloud import storage\n",
    "\n",
    "from sklearn.preprocessing import MinMaxScaler\n",
    "from sklearn.decomposition import PCA\n",
    "from sklearn.model_selection import train_test_split\n",
    "from sklearn.linear_model import LinearRegression\n",
    "from sklearn.metrics import mean_squared_error, r2_score"
   ]
  },
  {
   "cell_type": "code",
   "execution_count": 2,
   "id": "a035464b-c679-4c65-94a3-0e68a8ca7aa5",
   "metadata": {},
   "outputs": [
    {
     "data": {
      "text/plain": [
       "\"\\nos.environ['GOOGLE_APPLICATION_CREDENTIALS'] = 'mlb-mvp-predictions-571fb58bbad3.json'\\n\\nclient = storage.Client()\\nbucket = client.get_bucket('football-hackathan')\\nbucket.blob('corr_matrix.csv').upload_from_string(corr_matrix.to_csv(), 'text/csv')\\n\""
      ]
     },
     "execution_count": 2,
     "metadata": {},
     "output_type": "execute_result"
    }
   ],
   "source": [
    "# Method to write dataframe to the GCP bucket\n",
    "'''\n",
    "os.environ['GOOGLE_APPLICATION_CREDENTIALS'] = 'mlb-mvp-predictions-571fb58bbad3.json'\n",
    "\n",
    "client = storage.Client()\n",
    "bucket = client.get_bucket('football-hackathan')\n",
    "bucket.blob('corr_matrix.csv').upload_from_string(corr_matrix.to_csv(), 'text/csv')\n",
    "'''"
   ]
  },
  {
   "cell_type": "code",
   "execution_count": 3,
   "id": "eb53b266-fd69-4267-85e8-99a2faa9e828",
   "metadata": {},
   "outputs": [],
   "source": [
    "soccer_file = pd.read_csv('gs://football-hackathan/train.csv')\n",
    "soccer_test = pd.read_csv('gs://football-hackathan/test.csv')"
   ]
  },
  {
   "cell_type": "code",
   "execution_count": null,
   "id": "919f38a4-5cc5-4ffa-a15c-18c985a038ee",
   "metadata": {},
   "outputs": [],
   "source": []
  },
  {
   "cell_type": "markdown",
   "id": "4bbb03f1-97bb-4a96-bb01-9ff7052e795a",
   "metadata": {},
   "source": [
    "# Data Processing"
   ]
  },
  {
   "cell_type": "markdown",
   "id": "5d8e31b0-4a13-45f3-8b36-bbe68686578c",
   "metadata": {},
   "source": [
    "### Handling the missing data"
   ]
  },
  {
   "cell_type": "code",
   "execution_count": 4,
   "id": "4883fdd6-edc5-444b-b703-990feee53d71",
   "metadata": {},
   "outputs": [
    {
     "data": {
      "text/plain": [
       "20453"
      ]
     },
     "execution_count": 4,
     "metadata": {},
     "output_type": "execute_result"
    }
   ],
   "source": [
    "# number of rows with missing entries\n",
    "soccer_file.isnull().any(axis = 1).sum()"
   ]
  },
  {
   "cell_type": "code",
   "execution_count": 5,
   "id": "279b869a-8ec7-46da-bc18-fc76f80d5219",
   "metadata": {},
   "outputs": [],
   "source": [
    "# number of null values by column\n",
    "missing_list = list(soccer_file.isnull().sum())\n",
    "col_list = list(soccer_file.columns)\n",
    "missing_percent = []\n",
    "for val in missing_list:\n",
    "    percentage = val/len(soccer_file)\n",
    "    missing_percent.append(percentage)\n",
    "\n",
    "\n",
    "missing_dict = tuple(zip(col_list, missing_list, missing_percent))\n",
    "missing_df = pd.DataFrame(missing_dict, columns = ['column_title', 'abs_missing', 'pct_missing'])\n",
    "    \n"
   ]
  },
  {
   "cell_type": "code",
   "execution_count": 6,
   "id": "f278cd5f-f940-4f68-8bbe-51c64d74a75d",
   "metadata": {},
   "outputs": [
    {
     "data": {
      "text/html": [
       "<div>\n",
       "<style scoped>\n",
       "    .dataframe tbody tr th:only-of-type {\n",
       "        vertical-align: middle;\n",
       "    }\n",
       "\n",
       "    .dataframe tbody tr th {\n",
       "        vertical-align: top;\n",
       "    }\n",
       "\n",
       "    .dataframe thead th {\n",
       "        text-align: right;\n",
       "    }\n",
       "</style>\n",
       "<table border=\"1\" class=\"dataframe\">\n",
       "  <thead>\n",
       "    <tr style=\"text-align: right;\">\n",
       "      <th></th>\n",
       "      <th>column_title</th>\n",
       "      <th>abs_missing</th>\n",
       "      <th>pct_missing</th>\n",
       "    </tr>\n",
       "  </thead>\n",
       "  <tbody>\n",
       "    <tr>\n",
       "      <th>652</th>\n",
       "      <td>team2_other_raw_var_19</td>\n",
       "      <td>20453</td>\n",
       "      <td>1.0</td>\n",
       "    </tr>\n",
       "    <tr>\n",
       "      <th>515</th>\n",
       "      <td>team1_other_raw_var_50</td>\n",
       "      <td>20453</td>\n",
       "      <td>1.0</td>\n",
       "    </tr>\n",
       "    <tr>\n",
       "      <th>537</th>\n",
       "      <td>team1_other_raw_var_72</td>\n",
       "      <td>20453</td>\n",
       "      <td>1.0</td>\n",
       "    </tr>\n",
       "    <tr>\n",
       "      <th>484</th>\n",
       "      <td>team1_other_raw_var_19</td>\n",
       "      <td>20453</td>\n",
       "      <td>1.0</td>\n",
       "    </tr>\n",
       "    <tr>\n",
       "      <th>496</th>\n",
       "      <td>team1_other_raw_var_31</td>\n",
       "      <td>20453</td>\n",
       "      <td>1.0</td>\n",
       "    </tr>\n",
       "    <tr>\n",
       "      <th>...</th>\n",
       "      <td>...</td>\n",
       "      <td>...</td>\n",
       "      <td>...</td>\n",
       "    </tr>\n",
       "    <tr>\n",
       "      <th>12</th>\n",
       "      <td>player_general_var_2</td>\n",
       "      <td>0</td>\n",
       "      <td>0.0</td>\n",
       "    </tr>\n",
       "    <tr>\n",
       "      <th>13</th>\n",
       "      <td>player_general_var_3</td>\n",
       "      <td>0</td>\n",
       "      <td>0.0</td>\n",
       "    </tr>\n",
       "    <tr>\n",
       "      <th>15</th>\n",
       "      <td>player_general_var_5</td>\n",
       "      <td>0</td>\n",
       "      <td>0.0</td>\n",
       "    </tr>\n",
       "    <tr>\n",
       "      <th>1</th>\n",
       "      <td>scout_id</td>\n",
       "      <td>0</td>\n",
       "      <td>0.0</td>\n",
       "    </tr>\n",
       "    <tr>\n",
       "      <th>0</th>\n",
       "      <td>row_id</td>\n",
       "      <td>0</td>\n",
       "      <td>0.0</td>\n",
       "    </tr>\n",
       "  </tbody>\n",
       "</table>\n",
       "<p>800 rows × 3 columns</p>\n",
       "</div>"
      ],
      "text/plain": [
       "               column_title  abs_missing  pct_missing\n",
       "652  team2_other_raw_var_19        20453          1.0\n",
       "515  team1_other_raw_var_50        20453          1.0\n",
       "537  team1_other_raw_var_72        20453          1.0\n",
       "484  team1_other_raw_var_19        20453          1.0\n",
       "496  team1_other_raw_var_31        20453          1.0\n",
       "..                      ...          ...          ...\n",
       "12     player_general_var_2            0          0.0\n",
       "13     player_general_var_3            0          0.0\n",
       "15     player_general_var_5            0          0.0\n",
       "1                  scout_id            0          0.0\n",
       "0                    row_id            0          0.0\n",
       "\n",
       "[800 rows x 3 columns]"
      ]
     },
     "execution_count": 6,
     "metadata": {},
     "output_type": "execute_result"
    }
   ],
   "source": [
    "large_missing = missing_df.sort_values(by = ['abs_missing'], ascending = False)\n",
    "large_missing"
   ]
  },
  {
   "cell_type": "code",
   "execution_count": 7,
   "id": "eb113ac3-dae1-4d12-9c97-e0fc718eb7bd",
   "metadata": {},
   "outputs": [],
   "source": [
    "# columns with more than 40% missing values\n",
    "df_missing = missing_df[missing_df['pct_missing'] >= 0.4]\n",
    "missing_cols = list(df_missing['column_title'])"
   ]
  },
  {
   "cell_type": "code",
   "execution_count": 8,
   "id": "208bc9f2-7d43-49b5-a0b2-7fcb93f91ef5",
   "metadata": {},
   "outputs": [],
   "source": [
    "soccer_file = soccer_file.drop(columns = missing_cols)\n",
    "soccer_test = soccer_test.drop(columns = missing_cols)"
   ]
  },
  {
   "cell_type": "code",
   "execution_count": 9,
   "id": "f6e56285-a74b-4998-bb2c-6effb04f19e7",
   "metadata": {},
   "outputs": [],
   "source": [
    "# One-hot encode the categorical variables in the dataset\n",
    "soccer_file = pd.get_dummies(soccer_file, columns = ['winner', 'team', 'player_position_1', 'player_position_2'])\n",
    "soccer_test = pd.get_dummies(soccer_test, columns = ['winner', 'team', 'player_position_1', 'player_position_2'])"
   ]
  },
  {
   "cell_type": "code",
   "execution_count": 10,
   "id": "d1d04f2d-866e-43ed-afa1-c1ff4e0e2093",
   "metadata": {},
   "outputs": [],
   "source": [
    "# fill the missing values of the dataframe with the mean values\n",
    "soccer_file = soccer_file.apply(lambda x: x.fillna(x.mean()), axis = 0)"
   ]
  },
  {
   "cell_type": "code",
   "execution_count": 11,
   "id": "ba172491-ae11-41b9-9e5d-7e94435b2008",
   "metadata": {},
   "outputs": [],
   "source": [
    "soccer_test = soccer_test.apply(lambda x: x.fillna(x.mean()), axis = 0)\n",
    "soccer_test = soccer_test.drop(columns = 'row_id')"
   ]
  },
  {
   "cell_type": "code",
   "execution_count": 12,
   "id": "d011ef41-92d5-45b3-872b-3cd19408f5fb",
   "metadata": {},
   "outputs": [
    {
     "data": {
      "text/plain": [
       "0"
      ]
     },
     "execution_count": 12,
     "metadata": {},
     "output_type": "execute_result"
    }
   ],
   "source": [
    "# number of rows with missing entries\n",
    "soccer_test.isnull().any(axis = 1).sum()"
   ]
  },
  {
   "cell_type": "code",
   "execution_count": 13,
   "id": "f04fb838-de8b-4aa0-8be5-96e6e9aab40a",
   "metadata": {},
   "outputs": [],
   "source": [
    "# Isolate the rating_num dependent variable from the rest of the features\n",
    "rating_dep = soccer_file['rating_num']\n",
    "ind_vars = soccer_file.drop(columns = ['rating_num', 'row_id'])"
   ]
  },
  {
   "cell_type": "code",
   "execution_count": 14,
   "id": "780ac68b-65b6-4fa8-8d58-7032065fc2aa",
   "metadata": {},
   "outputs": [
    {
     "data": {
      "text/plain": [
       "(20453, 774)"
      ]
     },
     "execution_count": 14,
     "metadata": {},
     "output_type": "execute_result"
    }
   ],
   "source": [
    "ind_vars.shape"
   ]
  },
  {
   "cell_type": "code",
   "execution_count": 15,
   "id": "a178969f-d946-43a4-9ebb-2d4fd8a8af8c",
   "metadata": {},
   "outputs": [
    {
     "name": "stderr",
     "output_type": "stream",
     "text": [
      "/opt/conda/lib/python3.7/site-packages/sklearn/base.py:493: FutureWarning: The feature names should match those that were passed during fit. Starting version 1.2, an error will be raised.\n",
      "Feature names unseen at fit time:\n",
      "- player_position_1_21.0\n",
      "- player_position_2_21.0\n",
      "Feature names seen at fit time, yet now missing:\n",
      "- player_position_1_22.0\n",
      "- player_position_2_22.0\n",
      "\n",
      "  warnings.warn(message, FutureWarning)\n"
     ]
    }
   ],
   "source": [
    "# Normalize the independent variables on a scale of 0 to 1\n",
    "scaler = MinMaxScaler()\n",
    "\n",
    "scale = MinMaxScaler().fit(ind_vars)\n",
    "soccer_train = scale.transform(ind_vars)\n",
    "\n",
    "# apply the same normalization to the testing dataset\n",
    "soccer_test_norm = scale.transform(soccer_test)"
   ]
  },
  {
   "cell_type": "code",
   "execution_count": 16,
   "id": "c29113bb-8735-4a6c-993a-54531477375a",
   "metadata": {},
   "outputs": [],
   "source": [
    "soccer_train = pd.DataFrame(soccer_train, columns = ind_vars.columns)\n",
    "# soccer_train['rating_num'] = rating_dep\n",
    "\n",
    "soccer_test_norm = pd.DataFrame(soccer_test_norm, columns = soccer_test.columns)"
   ]
  },
  {
   "cell_type": "code",
   "execution_count": null,
   "id": "ce5dcb53-81c7-40ec-9657-4cee7e4248e1",
   "metadata": {},
   "outputs": [],
   "source": []
  },
  {
   "cell_type": "markdown",
   "id": "ab118f15-188e-4347-a719-c808a623051c",
   "metadata": {},
   "source": [
    "# Application of Principal Component Analysis"
   ]
  },
  {
   "cell_type": "code",
   "execution_count": 17,
   "id": "2238c511-878c-49e1-9e4b-d01a6d73fb12",
   "metadata": {},
   "outputs": [
    {
     "name": "stdout",
     "output_type": "stream",
     "text": [
      "Cumulative Variances (Percentage):\n",
      "[ 6.35344733 12.02883852 15.66851704 18.95442302 21.92832096 24.75417194\n",
      " 27.25644477 29.51729843 31.49188272 33.41532591 35.25877803 37.04578584\n",
      " 38.78262002 40.37835145 41.87746796 43.32448241 44.75307902 46.12854242\n",
      " 47.42841655 48.61292833 49.75369466 50.74347511 51.70093138 52.62974917\n",
      " 53.52005132 54.35265635 55.15934609 55.94441179 56.71159988 57.46969763\n",
      " 58.22152742 58.92053217 59.6085089  60.2887495  60.9638884  61.62676348\n",
      " 62.27481352 62.8937417  63.49353132 64.09061432 64.66501853 65.23636875\n",
      " 65.8061969  66.36713202 66.92305813 67.46056079 67.98765156 68.50430006\n",
      " 68.99990289 69.49411447 69.98209134 70.46070455 70.92010589 71.37534315\n",
      " 71.81190526 72.24727993 72.67369167 73.08777355 73.49921014 73.90642401\n",
      " 74.30840744 74.7056959  75.0882779  75.45550831 75.81895727 76.17532005\n",
      " 76.52748133 76.87433544 77.2159589  77.5543217  77.88417933 78.21182237\n",
      " 78.53111609 78.84876558 79.16312777 79.46831027 79.76550234 80.06166241\n",
      " 80.35079516 80.63639745 80.91490103 81.18952043 81.45759842 81.7206197\n",
      " 81.98004503 82.23385943 82.48476254 82.73177083 82.9727746  83.20965985\n",
      " 83.44219778 83.66718011 83.88988605 84.10987318 84.32653509 84.54076971\n",
      " 84.75135559 84.95851641 85.15799162]\n",
      "Number of components: 99\n"
     ]
    },
    {
     "data": {
      "text/plain": [
       "Text(0, 0.5, 'Explained variance (%)')"
      ]
     },
     "execution_count": 17,
     "metadata": {},
     "output_type": "execute_result"
    },
    {
     "data": {
      "image/png": "[encoded data removed]",
      "text/plain": [
       "<Figure size 432x288 with 1 Axes>"
      ]
     },
     "metadata": {
      "needs_background": "light"
     },
     "output_type": "display_data"
    }
   ],
   "source": [
    "pca = PCA(n_components = 0.85)\n",
    "pca.fit(soccer_train)\n",
    "\n",
    "print(\"Cumulative Variances (Percentage):\")\n",
    "print(np.cumsum(pca.explained_variance_ratio_ * 100))\n",
    "\n",
    "components = len(pca.explained_variance_ratio_)\n",
    "print(f'Number of components: {components}')\n",
    "\n",
    "\n",
    "plt.plot(range(1, components + 1), np.cumsum(pca.explained_variance_ratio_ * 100))\n",
    "plt.xlabel(\"Number of components\")\n",
    "plt.ylabel(\"Explained variance (%)\")"
   ]
  },
  {
   "cell_type": "code",
   "execution_count": null,
   "id": "24b22bf0-44c2-40cb-a258-a14ac710b89a",
   "metadata": {},
   "outputs": [],
   "source": []
  },
  {
   "cell_type": "markdown",
   "id": "13fbaa43-5da0-4582-a7b3-3096d17ec634",
   "metadata": {},
   "source": [
    "### Transform the independent variables to the 94 principal components"
   ]
  },
  {
   "cell_type": "code",
   "execution_count": 18,
   "id": "589e0614-12d5-4d6a-a7ec-3ce1bbd2a659",
   "metadata": {},
   "outputs": [],
   "source": [
    "x_pca = pca.transform(soccer_train)"
   ]
  },
  {
   "cell_type": "code",
   "execution_count": 19,
   "id": "5a73ca2c-5812-449a-b632-08e79f7558cc",
   "metadata": {},
   "outputs": [
    {
     "name": "stderr",
     "output_type": "stream",
     "text": [
      "/opt/conda/lib/python3.7/site-packages/sklearn/base.py:493: FutureWarning: The feature names should match those that were passed during fit. Starting version 1.2, an error will be raised.\n",
      "Feature names unseen at fit time:\n",
      "- player_position_1_21.0\n",
      "- player_position_2_21.0\n",
      "Feature names seen at fit time, yet now missing:\n",
      "- player_position_1_22.0\n",
      "- player_position_2_22.0\n",
      "\n",
      "  warnings.warn(message, FutureWarning)\n"
     ]
    }
   ],
   "source": [
    "test_pca = pca.transform(soccer_test_norm)"
   ]
  },
  {
   "cell_type": "code",
   "execution_count": 20,
   "id": "7afbf460-7a21-46f1-85ce-604d302a26f0",
   "metadata": {},
   "outputs": [
    {
     "data": {
      "text/plain": [
       "(20453, 99)"
      ]
     },
     "execution_count": 20,
     "metadata": {},
     "output_type": "execute_result"
    }
   ],
   "source": [
    "x_pca.shape"
   ]
  },
  {
   "cell_type": "code",
   "execution_count": 21,
   "id": "1fe3ba8d-b513-442a-b25e-f72ef3c650a7",
   "metadata": {},
   "outputs": [],
   "source": [
    "x_pca = pd.DataFrame(x_pca)"
   ]
  },
  {
   "cell_type": "code",
   "execution_count": 22,
   "id": "f7af7091-602a-43ad-b314-2bc115815b39",
   "metadata": {},
   "outputs": [],
   "source": [
    "x_pca['rating_num'] = rating_dep"
   ]
  },
  {
   "cell_type": "code",
   "execution_count": 23,
   "id": "e8e054ef-0385-42c7-a27f-6dfb555e79e7",
   "metadata": {},
   "outputs": [
    {
     "data": {
      "text/html": [
       "<div>\n",
       "<style scoped>\n",
       "    .dataframe tbody tr th:only-of-type {\n",
       "        vertical-align: middle;\n",
       "    }\n",
       "\n",
       "    .dataframe tbody tr th {\n",
       "        vertical-align: top;\n",
       "    }\n",
       "\n",
       "    .dataframe thead th {\n",
       "        text-align: right;\n",
       "    }\n",
       "</style>\n",
       "<table border=\"1\" class=\"dataframe\">\n",
       "  <thead>\n",
       "    <tr style=\"text-align: right;\">\n",
       "      <th></th>\n",
       "      <th>0</th>\n",
       "      <th>1</th>\n",
       "      <th>2</th>\n",
       "      <th>3</th>\n",
       "      <th>4</th>\n",
       "      <th>5</th>\n",
       "      <th>6</th>\n",
       "      <th>7</th>\n",
       "      <th>8</th>\n",
       "      <th>9</th>\n",
       "      <th>...</th>\n",
       "      <th>90</th>\n",
       "      <th>91</th>\n",
       "      <th>92</th>\n",
       "      <th>93</th>\n",
       "      <th>94</th>\n",
       "      <th>95</th>\n",
       "      <th>96</th>\n",
       "      <th>97</th>\n",
       "      <th>98</th>\n",
       "      <th>rating_num</th>\n",
       "    </tr>\n",
       "  </thead>\n",
       "  <tbody>\n",
       "    <tr>\n",
       "      <th>0</th>\n",
       "      <td>-0.615691</td>\n",
       "      <td>1.350831</td>\n",
       "      <td>-0.904628</td>\n",
       "      <td>0.023821</td>\n",
       "      <td>-0.153744</td>\n",
       "      <td>0.510693</td>\n",
       "      <td>0.058499</td>\n",
       "      <td>0.720068</td>\n",
       "      <td>0.094104</td>\n",
       "      <td>-0.068023</td>\n",
       "      <td>...</td>\n",
       "      <td>0.187495</td>\n",
       "      <td>0.226287</td>\n",
       "      <td>0.190580</td>\n",
       "      <td>0.141552</td>\n",
       "      <td>-0.105125</td>\n",
       "      <td>0.204422</td>\n",
       "      <td>0.211196</td>\n",
       "      <td>-0.057006</td>\n",
       "      <td>0.090433</td>\n",
       "      <td>7.0</td>\n",
       "    </tr>\n",
       "    <tr>\n",
       "      <th>1</th>\n",
       "      <td>2.379567</td>\n",
       "      <td>0.545238</td>\n",
       "      <td>0.371000</td>\n",
       "      <td>0.047673</td>\n",
       "      <td>-1.013986</td>\n",
       "      <td>-0.424010</td>\n",
       "      <td>-0.230256</td>\n",
       "      <td>-0.580033</td>\n",
       "      <td>-0.607044</td>\n",
       "      <td>-1.257283</td>\n",
       "      <td>...</td>\n",
       "      <td>0.033576</td>\n",
       "      <td>-0.312450</td>\n",
       "      <td>0.204942</td>\n",
       "      <td>-0.028202</td>\n",
       "      <td>-0.038325</td>\n",
       "      <td>0.180070</td>\n",
       "      <td>0.024193</td>\n",
       "      <td>-0.082178</td>\n",
       "      <td>0.202439</td>\n",
       "      <td>6.5</td>\n",
       "    </tr>\n",
       "    <tr>\n",
       "      <th>2</th>\n",
       "      <td>0.183887</td>\n",
       "      <td>-0.837652</td>\n",
       "      <td>-0.467771</td>\n",
       "      <td>-0.371234</td>\n",
       "      <td>0.630275</td>\n",
       "      <td>-1.134189</td>\n",
       "      <td>0.151454</td>\n",
       "      <td>-0.753262</td>\n",
       "      <td>0.964185</td>\n",
       "      <td>1.057942</td>\n",
       "      <td>...</td>\n",
       "      <td>-0.279812</td>\n",
       "      <td>-0.049679</td>\n",
       "      <td>0.022249</td>\n",
       "      <td>-0.153363</td>\n",
       "      <td>0.092198</td>\n",
       "      <td>-0.004424</td>\n",
       "      <td>0.152172</td>\n",
       "      <td>-0.344127</td>\n",
       "      <td>-0.064745</td>\n",
       "      <td>8.5</td>\n",
       "    </tr>\n",
       "    <tr>\n",
       "      <th>3</th>\n",
       "      <td>0.213009</td>\n",
       "      <td>0.352464</td>\n",
       "      <td>1.690587</td>\n",
       "      <td>0.868249</td>\n",
       "      <td>0.061668</td>\n",
       "      <td>0.183648</td>\n",
       "      <td>1.993376</td>\n",
       "      <td>-0.019599</td>\n",
       "      <td>-0.124739</td>\n",
       "      <td>-0.548611</td>\n",
       "      <td>...</td>\n",
       "      <td>0.056108</td>\n",
       "      <td>-0.089128</td>\n",
       "      <td>-0.038709</td>\n",
       "      <td>-0.250557</td>\n",
       "      <td>0.156739</td>\n",
       "      <td>-0.006201</td>\n",
       "      <td>-0.019469</td>\n",
       "      <td>-0.051837</td>\n",
       "      <td>0.037768</td>\n",
       "      <td>8.0</td>\n",
       "    </tr>\n",
       "    <tr>\n",
       "      <th>4</th>\n",
       "      <td>-0.328160</td>\n",
       "      <td>-1.142783</td>\n",
       "      <td>-0.696012</td>\n",
       "      <td>0.395742</td>\n",
       "      <td>-0.033749</td>\n",
       "      <td>-0.742349</td>\n",
       "      <td>0.230523</td>\n",
       "      <td>0.334437</td>\n",
       "      <td>0.619510</td>\n",
       "      <td>-0.194543</td>\n",
       "      <td>...</td>\n",
       "      <td>0.267194</td>\n",
       "      <td>0.079918</td>\n",
       "      <td>0.043152</td>\n",
       "      <td>0.324360</td>\n",
       "      <td>-0.029762</td>\n",
       "      <td>0.108204</td>\n",
       "      <td>0.558066</td>\n",
       "      <td>-0.046487</td>\n",
       "      <td>0.075925</td>\n",
       "      <td>3.5</td>\n",
       "    </tr>\n",
       "    <tr>\n",
       "      <th>...</th>\n",
       "      <td>...</td>\n",
       "      <td>...</td>\n",
       "      <td>...</td>\n",
       "      <td>...</td>\n",
       "      <td>...</td>\n",
       "      <td>...</td>\n",
       "      <td>...</td>\n",
       "      <td>...</td>\n",
       "      <td>...</td>\n",
       "      <td>...</td>\n",
       "      <td>...</td>\n",
       "      <td>...</td>\n",
       "      <td>...</td>\n",
       "      <td>...</td>\n",
       "      <td>...</td>\n",
       "      <td>...</td>\n",
       "      <td>...</td>\n",
       "      <td>...</td>\n",
       "      <td>...</td>\n",
       "      <td>...</td>\n",
       "      <td>...</td>\n",
       "    </tr>\n",
       "    <tr>\n",
       "      <th>20448</th>\n",
       "      <td>0.105389</td>\n",
       "      <td>-0.188862</td>\n",
       "      <td>0.572204</td>\n",
       "      <td>-0.342251</td>\n",
       "      <td>-0.047361</td>\n",
       "      <td>0.179553</td>\n",
       "      <td>-0.229320</td>\n",
       "      <td>0.417778</td>\n",
       "      <td>0.386950</td>\n",
       "      <td>-0.341643</td>\n",
       "      <td>...</td>\n",
       "      <td>0.010637</td>\n",
       "      <td>0.016265</td>\n",
       "      <td>0.001180</td>\n",
       "      <td>-0.020713</td>\n",
       "      <td>-0.028208</td>\n",
       "      <td>0.005889</td>\n",
       "      <td>-0.006074</td>\n",
       "      <td>0.003974</td>\n",
       "      <td>0.109507</td>\n",
       "      <td>5.0</td>\n",
       "    </tr>\n",
       "    <tr>\n",
       "      <th>20449</th>\n",
       "      <td>-0.317180</td>\n",
       "      <td>0.710053</td>\n",
       "      <td>0.366010</td>\n",
       "      <td>-0.694238</td>\n",
       "      <td>-0.667983</td>\n",
       "      <td>0.731377</td>\n",
       "      <td>0.342767</td>\n",
       "      <td>0.506622</td>\n",
       "      <td>-0.150358</td>\n",
       "      <td>0.317111</td>\n",
       "      <td>...</td>\n",
       "      <td>-0.104792</td>\n",
       "      <td>-0.089968</td>\n",
       "      <td>-0.049179</td>\n",
       "      <td>0.211548</td>\n",
       "      <td>0.167140</td>\n",
       "      <td>-0.173808</td>\n",
       "      <td>0.091314</td>\n",
       "      <td>0.172784</td>\n",
       "      <td>-0.034393</td>\n",
       "      <td>6.0</td>\n",
       "    </tr>\n",
       "    <tr>\n",
       "      <th>20450</th>\n",
       "      <td>1.941027</td>\n",
       "      <td>-1.024720</td>\n",
       "      <td>-0.489104</td>\n",
       "      <td>0.631030</td>\n",
       "      <td>0.157792</td>\n",
       "      <td>-0.955618</td>\n",
       "      <td>0.002271</td>\n",
       "      <td>-0.795471</td>\n",
       "      <td>-0.378863</td>\n",
       "      <td>0.984173</td>\n",
       "      <td>...</td>\n",
       "      <td>-0.231438</td>\n",
       "      <td>-0.237613</td>\n",
       "      <td>-0.373777</td>\n",
       "      <td>-0.384049</td>\n",
       "      <td>0.234492</td>\n",
       "      <td>-0.315830</td>\n",
       "      <td>-0.018373</td>\n",
       "      <td>-0.122590</td>\n",
       "      <td>0.068465</td>\n",
       "      <td>5.0</td>\n",
       "    </tr>\n",
       "    <tr>\n",
       "      <th>20451</th>\n",
       "      <td>0.297707</td>\n",
       "      <td>1.128659</td>\n",
       "      <td>0.421852</td>\n",
       "      <td>0.391800</td>\n",
       "      <td>0.324778</td>\n",
       "      <td>-0.686741</td>\n",
       "      <td>-0.233593</td>\n",
       "      <td>-0.440589</td>\n",
       "      <td>-0.010330</td>\n",
       "      <td>0.499451</td>\n",
       "      <td>...</td>\n",
       "      <td>-0.249631</td>\n",
       "      <td>-0.109641</td>\n",
       "      <td>-0.207000</td>\n",
       "      <td>0.247686</td>\n",
       "      <td>0.003208</td>\n",
       "      <td>-0.111593</td>\n",
       "      <td>-0.155475</td>\n",
       "      <td>0.244543</td>\n",
       "      <td>-0.130984</td>\n",
       "      <td>6.0</td>\n",
       "    </tr>\n",
       "    <tr>\n",
       "      <th>20452</th>\n",
       "      <td>1.270139</td>\n",
       "      <td>0.042389</td>\n",
       "      <td>0.216326</td>\n",
       "      <td>-0.006838</td>\n",
       "      <td>-0.300818</td>\n",
       "      <td>0.786352</td>\n",
       "      <td>-0.351173</td>\n",
       "      <td>0.561636</td>\n",
       "      <td>-0.138576</td>\n",
       "      <td>-0.276042</td>\n",
       "      <td>...</td>\n",
       "      <td>-0.021106</td>\n",
       "      <td>-0.128468</td>\n",
       "      <td>-0.023093</td>\n",
       "      <td>0.066648</td>\n",
       "      <td>-0.209991</td>\n",
       "      <td>-0.131827</td>\n",
       "      <td>-0.070292</td>\n",
       "      <td>0.211781</td>\n",
       "      <td>0.133557</td>\n",
       "      <td>6.0</td>\n",
       "    </tr>\n",
       "  </tbody>\n",
       "</table>\n",
       "<p>20453 rows × 100 columns</p>\n",
       "</div>"
      ],
      "text/plain": [
       "              0         1         2         3         4         5         6  \\\n",
       "0     -0.615691  1.350831 -0.904628  0.023821 -0.153744  0.510693  0.058499   \n",
       "1      2.379567  0.545238  0.371000  0.047673 -1.013986 -0.424010 -0.230256   \n",
       "2      0.183887 -0.837652 -0.467771 -0.371234  0.630275 -1.134189  0.151454   \n",
       "3      0.213009  0.352464  1.690587  0.868249  0.061668  0.183648  1.993376   \n",
       "4     -0.328160 -1.142783 -0.696012  0.395742 -0.033749 -0.742349  0.230523   \n",
       "...         ...       ...       ...       ...       ...       ...       ...   \n",
       "20448  0.105389 -0.188862  0.572204 -0.342251 -0.047361  0.179553 -0.229320   \n",
       "20449 -0.317180  0.710053  0.366010 -0.694238 -0.667983  0.731377  0.342767   \n",
       "20450  1.941027 -1.024720 -0.489104  0.631030  0.157792 -0.955618  0.002271   \n",
       "20451  0.297707  1.128659  0.421852  0.391800  0.324778 -0.686741 -0.233593   \n",
       "20452  1.270139  0.042389  0.216326 -0.006838 -0.300818  0.786352 -0.351173   \n",
       "\n",
       "              7         8         9  ...        90        91        92  \\\n",
       "0      0.720068  0.094104 -0.068023  ...  0.187495  0.226287  0.190580   \n",
       "1     -0.580033 -0.607044 -1.257283  ...  0.033576 -0.312450  0.204942   \n",
       "2     -0.753262  0.964185  1.057942  ... -0.279812 -0.049679  0.022249   \n",
       "3     -0.019599 -0.124739 -0.548611  ...  0.056108 -0.089128 -0.038709   \n",
       "4      0.334437  0.619510 -0.194543  ...  0.267194  0.079918  0.043152   \n",
       "...         ...       ...       ...  ...       ...       ...       ...   \n",
       "20448  0.417778  0.386950 -0.341643  ...  0.010637  0.016265  0.001180   \n",
       "20449  0.506622 -0.150358  0.317111  ... -0.104792 -0.089968 -0.049179   \n",
       "20450 -0.795471 -0.378863  0.984173  ... -0.231438 -0.237613 -0.373777   \n",
       "20451 -0.440589 -0.010330  0.499451  ... -0.249631 -0.109641 -0.207000   \n",
       "20452  0.561636 -0.138576 -0.276042  ... -0.021106 -0.128468 -0.023093   \n",
       "\n",
       "             93        94        95        96        97        98  rating_num  \n",
       "0      0.141552 -0.105125  0.204422  0.211196 -0.057006  0.090433         7.0  \n",
       "1     -0.028202 -0.038325  0.180070  0.024193 -0.082178  0.202439         6.5  \n",
       "2     -0.153363  0.092198 -0.004424  0.152172 -0.344127 -0.064745         8.5  \n",
       "3     -0.250557  0.156739 -0.006201 -0.019469 -0.051837  0.037768         8.0  \n",
       "4      0.324360 -0.029762  0.108204  0.558066 -0.046487  0.075925         3.5  \n",
       "...         ...       ...       ...       ...       ...       ...         ...  \n",
       "20448 -0.020713 -0.028208  0.005889 -0.006074  0.003974  0.109507         5.0  \n",
       "20449  0.211548  0.167140 -0.173808  0.091314  0.172784 -0.034393         6.0  \n",
       "20450 -0.384049  0.234492 -0.315830 -0.018373 -0.122590  0.068465         5.0  \n",
       "20451  0.247686  0.003208 -0.111593 -0.155475  0.244543 -0.130984         6.0  \n",
       "20452  0.066648 -0.209991 -0.131827 -0.070292  0.211781  0.133557         6.0  \n",
       "\n",
       "[20453 rows x 100 columns]"
      ]
     },
     "execution_count": 23,
     "metadata": {},
     "output_type": "execute_result"
    }
   ],
   "source": [
    "x_pca"
   ]
  },
  {
   "cell_type": "markdown",
   "id": "b6ce2b2b-7e69-4f4e-b162-7ae0b795191c",
   "metadata": {},
   "source": [
    "## Linear Regression Testing"
   ]
  },
  {
   "cell_type": "code",
   "execution_count": 24,
   "id": "0710517e-5e6d-4078-97c9-213772d0dd20",
   "metadata": {},
   "outputs": [],
   "source": [
    "regression_data = x_pca.copy()"
   ]
  },
  {
   "cell_type": "code",
   "execution_count": 25,
   "id": "5ba61524-cbe1-45b3-82b6-6fbf5f966b8d",
   "metadata": {},
   "outputs": [],
   "source": [
    "x_train = regression_data.iloc[:,:-1]\n",
    "y_train = regression_data.iloc[:, -1]"
   ]
  },
  {
   "cell_type": "code",
   "execution_count": 26,
   "id": "b1c7bd92-a911-48ad-9f2c-f0bafaf26e41",
   "metadata": {},
   "outputs": [],
   "source": [
    "# split the training dataset into a further training/testing split\n",
    "# allows for evaluation of the model performance\n",
    "# x_train, x_test, y_train, y_test = train_test_split(x,y, test_size = 0.33, shuffle = True, random_state = 1337)"
   ]
  },
  {
   "cell_type": "code",
   "execution_count": 27,
   "id": "16d63b60-dace-45d3-ab68-9e77fde08489",
   "metadata": {},
   "outputs": [],
   "source": [
    "linear_regression = LinearRegression()"
   ]
  },
  {
   "cell_type": "code",
   "execution_count": 28,
   "id": "44a470ba-d190-4684-a9ed-d54ddeac06fe",
   "metadata": {},
   "outputs": [
    {
     "data": {
      "text/plain": [
       "LinearRegression()"
      ]
     },
     "execution_count": 28,
     "metadata": {},
     "output_type": "execute_result"
    }
   ],
   "source": [
    "# train the linear regression model\n",
    "linear_regression.fit(x_train, y_train)"
   ]
  },
  {
   "cell_type": "code",
   "execution_count": 29,
   "id": "ea919bb1-58ac-4b67-aedb-5969701d8a76",
   "metadata": {},
   "outputs": [],
   "source": [
    "rating_pred = linear_regression.predict(test_pca)"
   ]
  },
  {
   "cell_type": "code",
   "execution_count": 31,
   "id": "674f5e45-2572-41b8-b2cb-c8c96063f234",
   "metadata": {},
   "outputs": [
    {
     "data": {
      "text/plain": [
       "8774"
      ]
     },
     "execution_count": 31,
     "metadata": {},
     "output_type": "execute_result"
    }
   ],
   "source": [
    "len(rating_pred)"
   ]
  },
  {
   "cell_type": "code",
   "execution_count": null,
   "id": "31e79320-690c-4c55-8070-892cd37169e5",
   "metadata": {},
   "outputs": [],
   "source": []
  },
  {
   "cell_type": "markdown",
   "id": "ee4abe1b-024f-405a-ab56-34af5c9668ea",
   "metadata": {},
   "source": [
    "# CSV file for submission"
   ]
  },
  {
   "cell_type": "code",
   "execution_count": 32,
   "id": "612deebd-0b2d-47cf-996d-28c098af0b55",
   "metadata": {},
   "outputs": [],
   "source": [
    "soccer_test = pd.read_csv('gs://football-hackathan/test.csv')"
   ]
  },
  {
   "cell_type": "code",
   "execution_count": 33,
   "id": "143a3857-2fcb-4cd1-a688-a56b2e4f756a",
   "metadata": {},
   "outputs": [],
   "source": [
    "row_id = list(soccer_test['row_id'])\n",
    "rating_num = list(rating_pred)"
   ]
  },
  {
   "cell_type": "code",
   "execution_count": 39,
   "id": "a5e04284-a2e2-4128-806d-50fe00452ccc",
   "metadata": {},
   "outputs": [],
   "source": [
    "submission_df = pd.DataFrame(list(zip(row_id, rating_num)), columns = ['row_id','rating_num'])"
   ]
  },
  {
   "cell_type": "code",
   "execution_count": 41,
   "id": "c54528aa-2ffe-4920-9f9d-2e1b1ca6f519",
   "metadata": {},
   "outputs": [],
   "source": [
    "submission_df.to_csv('pca_regression_submission.csv', index = False)"
   ]
  },
  {
   "cell_type": "code",
   "execution_count": 40,
   "id": "aeddcacf-4862-48ef-b43e-004ef5e8056e",
   "metadata": {},
   "outputs": [
    {
     "data": {
      "text/html": [
       "<div>\n",
       "<style scoped>\n",
       "    .dataframe tbody tr th:only-of-type {\n",
       "        vertical-align: middle;\n",
       "    }\n",
       "\n",
       "    .dataframe tbody tr th {\n",
       "        vertical-align: top;\n",
       "    }\n",
       "\n",
       "    .dataframe thead th {\n",
       "        text-align: right;\n",
       "    }\n",
       "</style>\n",
       "<table border=\"1\" class=\"dataframe\">\n",
       "  <thead>\n",
       "    <tr style=\"text-align: right;\">\n",
       "      <th></th>\n",
       "      <th>row_id</th>\n",
       "      <th>rating_num</th>\n",
       "    </tr>\n",
       "  </thead>\n",
       "  <tbody>\n",
       "    <tr>\n",
       "      <th>0</th>\n",
       "      <td>14785</td>\n",
       "      <td>7.142166</td>\n",
       "    </tr>\n",
       "    <tr>\n",
       "      <th>1</th>\n",
       "      <td>15125</td>\n",
       "      <td>6.435436</td>\n",
       "    </tr>\n",
       "    <tr>\n",
       "      <th>2</th>\n",
       "      <td>13095</td>\n",
       "      <td>6.214197</td>\n",
       "    </tr>\n",
       "    <tr>\n",
       "      <th>3</th>\n",
       "      <td>6079</td>\n",
       "      <td>6.367193</td>\n",
       "    </tr>\n",
       "    <tr>\n",
       "      <th>4</th>\n",
       "      <td>16584</td>\n",
       "      <td>7.434298</td>\n",
       "    </tr>\n",
       "    <tr>\n",
       "      <th>...</th>\n",
       "      <td>...</td>\n",
       "      <td>...</td>\n",
       "    </tr>\n",
       "    <tr>\n",
       "      <th>8769</th>\n",
       "      <td>21259</td>\n",
       "      <td>5.605346</td>\n",
       "    </tr>\n",
       "    <tr>\n",
       "      <th>8770</th>\n",
       "      <td>9371</td>\n",
       "      <td>8.097268</td>\n",
       "    </tr>\n",
       "    <tr>\n",
       "      <th>8771</th>\n",
       "      <td>23226</td>\n",
       "      <td>6.890295</td>\n",
       "    </tr>\n",
       "    <tr>\n",
       "      <th>8772</th>\n",
       "      <td>26623</td>\n",
       "      <td>7.249137</td>\n",
       "    </tr>\n",
       "    <tr>\n",
       "      <th>8773</th>\n",
       "      <td>13814</td>\n",
       "      <td>6.887387</td>\n",
       "    </tr>\n",
       "  </tbody>\n",
       "</table>\n",
       "<p>8774 rows × 2 columns</p>\n",
       "</div>"
      ],
      "text/plain": [
       "      row_id  rating_num\n",
       "0      14785    7.142166\n",
       "1      15125    6.435436\n",
       "2      13095    6.214197\n",
       "3       6079    6.367193\n",
       "4      16584    7.434298\n",
       "...      ...         ...\n",
       "8769   21259    5.605346\n",
       "8770    9371    8.097268\n",
       "8771   23226    6.890295\n",
       "8772   26623    7.249137\n",
       "8773   13814    6.887387\n",
       "\n",
       "[8774 rows x 2 columns]"
      ]
     },
     "execution_count": 40,
     "metadata": {},
     "output_type": "execute_result"
    }
   ],
   "source": [
    "submission_df"
   ]
  },
  {
   "cell_type": "code",
   "execution_count": null,
   "id": "09e55db6-742b-48b2-b45d-7e058addc01c",
   "metadata": {},
   "outputs": [],
   "source": []
  },
  {
   "cell_type": "code",
   "execution_count": null,
   "id": "4d766cae-c0ed-4012-8de4-5a66032deed6",
   "metadata": {},
   "outputs": [],
   "source": []
  }
 ],
 "metadata": {
  "environment": {
   "kernel": "python3",
   "name": "common-cpu.m93",
   "type": "gcloud",
   "uri": "gcr.io/deeplearning-platform-release/base-cpu:m93"
  },
  "kernelspec": {
   "display_name": "Python 3",
   "language": "python",
   "name": "python3"
  },
  "language_info": {
   "codemirror_mode": {
    "name": "ipython",
    "version": 3
   },
   "file_extension": ".py",
   "mimetype": "text/x-python",
   "name": "python",
   "nbconvert_exporter": "python",
   "pygments_lexer": "ipython3",
   "version": "3.7.12"
  }
 },
 "nbformat": 4,
 "nbformat_minor": 5
}
